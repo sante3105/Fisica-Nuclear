{
 "cells": [
  {
   "cell_type": "code",
   "execution_count": 1,
   "id": "563dc61e-1004-42b2-9b97-a49d52da264c",
   "metadata": {},
   "outputs": [
    {
     "ename": "ImportError",
     "evalue": "cannot import name 'coulombf' from 'scipy.special' (/home/saescobarc/venv/lib/python3.10/site-packages/scipy/special/__init__.py)",
     "output_type": "error",
     "traceback": [
      "\u001b[0;31m---------------------------------------------------------------------------\u001b[0m",
      "\u001b[0;31mImportError\u001b[0m                               Traceback (most recent call last)",
      "Cell \u001b[0;32mIn[1], line 18\u001b[0m\n\u001b[1;32m     16\u001b[0m \u001b[38;5;28;01mimport\u001b[39;00m \u001b[38;5;21;01mmatplotlib\u001b[39;00m\u001b[38;5;21;01m.\u001b[39;00m\u001b[38;5;21;01mpyplot\u001b[39;00m \u001b[38;5;28;01mas\u001b[39;00m \u001b[38;5;21;01mplt\u001b[39;00m\n\u001b[1;32m     17\u001b[0m \u001b[38;5;28;01mfrom\u001b[39;00m \u001b[38;5;21;01mscipy\u001b[39;00m\u001b[38;5;21;01m.\u001b[39;00m\u001b[38;5;21;01mconstants\u001b[39;00m \u001b[38;5;28;01mimport\u001b[39;00m physical_constants, pi\n\u001b[0;32m---> 18\u001b[0m \u001b[38;5;28;01mfrom\u001b[39;00m \u001b[38;5;21;01mscipy\u001b[39;00m\u001b[38;5;21;01m.\u001b[39;00m\u001b[38;5;21;01mspecial\u001b[39;00m \u001b[38;5;28;01mimport\u001b[39;00m coulombf, coulombg\n\u001b[1;32m     20\u001b[0m \u001b[38;5;66;03m# =====================  CONSTANTES BÁSICAS  =============================== #\u001b[39;00m\n\u001b[1;32m     21\u001b[0m ħc      \u001b[38;5;241m=\u001b[39m \u001b[38;5;241m197.3269804\u001b[39m          \u001b[38;5;66;03m# [MeV·fm]\u001b[39;00m\n",
      "\u001b[0;31mImportError\u001b[0m: cannot import name 'coulombf' from 'scipy.special' (/home/saescobarc/venv/lib/python3.10/site-packages/scipy/special/__init__.py)"
     ]
    }
   ],
   "source": [
    "#!/usr/bin/env python3\n",
    "# -*- coding: utf-8 -*-\n",
    "\"\"\"\n",
    "Optical-potential model (onda S) para fusión ligera\n",
    "\n",
    "Calcula, en el rango 0–1 MeV, \n",
    "  • parte real e imaginaria de δ0(E)\n",
    "  • σ(E)  (sección eficaz)\n",
    "  • S(E)  (factor astrofísico)\n",
    "  • u0(r)  y  du0/dr  para un valor de E\n",
    "graficando cada magnitud.\n",
    "\n",
    "Autor:  (tu nombre)   2025\n",
    "\"\"\"\n",
    "import numpy as np\n",
    "import matplotlib.pyplot as plt\n",
    "from scipy.constants import physical_constants, pi\n",
    "from scipy.special import coulombf, coulombg\n",
    "\n",
    "# =====================  CONSTANTES BÁSICAS  =============================== #\n",
    "ħc      = 197.3269804          # [MeV·fm]\n",
    "α_fine  = 1/137.035999084\n",
    "e2_4pie0= α_fine * ħc          # e²/(4πϵ0)  [MeV·fm]\n",
    "m_u     = physical_constants['atomic mass constant energy equivalent in MeV'][0]\n",
    "\n",
    "# =====================  FUNCIONES AUXILIARES  ============================= #\n",
    "def reduced_mass(Ap, At):\n",
    "    \"\"\"Masa reducida en MeV/c² (A en unidades de masa atómica).\"\"\"\n",
    "    return Ap * m_u * At / (Ap + At)\n",
    "\n",
    "def coulomb_FG(l, η, ρ):\n",
    "    \"\"\"Devuelve F_l, G_l y sus derivadas (l=0).\"\"\"\n",
    "    F   = coulombf(l, η, ρ)\n",
    "    G   = coulombg(l, η, ρ)\n",
    "    # derivada numérica muy precisa (ρ~fm, paso 1e-5 fm)\n",
    "    h   = 1e-5\n",
    "    Fp  = (coulombf(l, η, ρ+h) - coulombf(l, η, ρ-h)) / (2*h)\n",
    "    Gp  = (coulombg(l, η, ρ+h) - coulombg(l, η, ρ-h)) / (2*h)\n",
    "    return F, G, Fp, Gp\n",
    "\n",
    "def delta0(E, Zp, Zt, Ap, At, Vr, Vi, r0):\n",
    "    \"\"\"Devuelve δ0(E) complejo (rad).\"\"\"\n",
    "    mr   = reduced_mass(Ap, At)               # MeV\n",
    "    k    = np.sqrt(2*mr*E)/ħc                # fm⁻¹\n",
    "    ac   = ħc**2 / (mr*e2_4pie0*Zp*Zt)       # fm\n",
    "    η    = 1/(k*ac)\n",
    "    RN   = r0 * (At**(1/3) + Ap**(1/3))      # fm\n",
    "    # número de onda dentro del pozo (complejo)\n",
    "    kN   = np.sqrt(2*mr*(E-Vr-1j*Vi))/ħc\n",
    "    ρ    = k * RN\n",
    "    F, G, Fp, Gp = coulomb_FG(0, η, ρ)\n",
    "\n",
    "    # Expresiones abreviadas\n",
    "    cot_kN_RN = (np.cos(kN*RN)/np.sin(kN*RN))\n",
    "    num   = kN*cot_kN_RN*G - k*Gp\n",
    "    den   = k*Fp - kN*cot_kN_RN*F\n",
    "    W     = num/den                             # W_r + i W_i  = cot δ0\n",
    "    δ0    = np.arctan(1/W)                      # atan devuelve rama correcta\n",
    "    return δ0, W, k, ac\n",
    "\n",
    "def sigma_S(E, k, W, mr, Zp, Zt):\n",
    "    \"\"\"σ(E) y S(E) (E en MeV, k en fm⁻¹).\"\"\"\n",
    "    Wr, Wi = W.real, W.imag\n",
    "    σ   = pi/k**2 * (-4*Wi)/(Wr**2 + (Wi-1)**2)  # barn si k en fm⁻¹\n",
    "    BG  = Zp*Zt*e2_4pie0*np.sqrt(2*mr)/ħc        # √(MeV)·fm⁰ → constante BG\n",
    "    S   = σ * E * np.exp(BG/np.sqrt(E))\n",
    "    return σ, S\n",
    "\n",
    "def wavefunction(r, E, params):\n",
    "    \"\"\"Devuelve u0(r,E) y su derivada, normalizando B=1.\"\"\"\n",
    "    (Zp,Zt,Ap,At,Vr,Vi,r0) = params\n",
    "    mr = reduced_mass(Ap, At)\n",
    "    k  = np.sqrt(2*mr*E)/ħc\n",
    "    RN = r0 * (At**(1/3)+Ap**(1/3))\n",
    "    δ0, W, k_val, ac = delta0(E,*params[:4],Vr,Vi,r0)[:4]\n",
    "    kN= np.sqrt(2*mr*(E-Vr-1j*Vi))/ħc\n",
    "    # coeficientes (B=1) y D ajustado por continuidad en r=RN\n",
    "    B   = 1.0\n",
    "    F0, G0, Fp0, Gp0 = coulomb_FG(0, 1/(k_val*ac), k_val*RN)\n",
    "    cotδ = 1/np.tan(δ0)\n",
    "    D   = (B*np.sin(kN*RN)) / (F0*cotδ + G0)\n",
    "    # regiones\n",
    "    u   = np.where(r<RN,\n",
    "                   B*np.sin(kN*r),\n",
    "                   D*(F0*cotδ + G0)   # se ajustará punto a punto justo abajo\n",
    "                   )\n",
    "    # derivada por trozos\n",
    "    du = np.where(r<RN,\n",
    "                  B*kN*np.cos(kN*r),\n",
    "                  D*(Fp0*cotδ + Gp0)*k_val)\n",
    "    return u, du\n",
    "\n",
    "# =====================  ENTRADA DE DATOS  ================================ #\n",
    "print(\"Introduzca datos del sistema (carga Z, masa A en uma)\")\n",
    "Zp = int(input(\" Z del proyectil = \"))\n",
    "Zt = int(input(\" Z del blanco    = \"))\n",
    "Ap = float(input(\" A proyectil     = \"))\n",
    "At = float(input(\" A blanco        = \"))\n",
    "Vr = float(input(\" Parte real Vr   [MeV] = \"))\n",
    "Vi = float(input(\" Parte imag Vi   [MeV] = \"))\n",
    "r0 = float(input(\" r0 (fm)         = \"))\n",
    "\n",
    "params = (Zp, Zt, Ap, At, Vr, Vi, r0)\n",
    "\n",
    "# =====================  CÁLCULOS ENERGÉTICOS ============================= #\n",
    "E_MeV = np.linspace(1e-3, 1.0, 400)          # 0 – 1 MeV\n",
    "δ0_cplx = []\n",
    "σ_list  = []\n",
    "S_list  = []\n",
    "for E in E_MeV:\n",
    "    δ0, W, k, _ = delta0(E, *params)\n",
    "    σ, S  = sigma_S(E, k, W, reduced_mass(Ap,At), Zp, Zt)\n",
    "    δ0_cplx.append(δ0)\n",
    "    σ_list.append(σ)\n",
    "    S_list.append(S)\n",
    "\n",
    "δ0_cplx = np.array(δ0_cplx)\n",
    "σ_list  = np.array(σ_list)\n",
    "S_list  = np.array(S_list)\n",
    "\n",
    "# =====================  PLOTS ENERGÍA ==================================== #\n",
    "fig,axs = plt.subplots(2,2,figsize=(10,8))\n",
    "axs[0,0].plot(E_MeV, δ0_cplx.real*180/pi)\n",
    "axs[0,0].set_xlabel('E (MeV)'); axs[0,0].set_ylabel('Re δ0 (°)')\n",
    "\n",
    "axs[0,1].plot(E_MeV, δ0_cplx.imag*180/pi)\n",
    "axs[0,1].set_xlabel('E (MeV)'); axs[0,1].set_ylabel('Im δ0 (°)')\n",
    "\n",
    "axs[1,0].plot(E_MeV, σ_list)\n",
    "axs[1,0].set_xlabel('E (MeV)'); axs[1,0].set_ylabel('σ (barn)'); axs[1,0].set_yscale('log')\n",
    "\n",
    "axs[1,1].plot(E_MeV, S_list)\n",
    "axs[1,1].set_xlabel('E (MeV)'); axs[1,1].set_ylabel('S (MeV·barn)')\n",
    "\n",
    "fig.tight_layout()\n",
    "plt.show()\n",
    "\n",
    "# =====================  ONDA U0(r) PARA ENERGÍA DE DEMO  ================= #\n",
    "E_demo = float(input(\"E (MeV) para graficar u0(r) = \"))\n",
    "r_max  = 2 * ħc**2 / (reduced_mass(Ap,At)*e2_4pie0*Zp*Zt)   # 2·ac\n",
    "r      = np.linspace(1e-4, r_max, 2000)\n",
    "u, du  = wavefunction(r, E_demo, params)\n",
    "\n",
    "plt.figure(figsize=(7,4))\n",
    "plt.plot(r, u.real, label='Re u0')\n",
    "plt.plot(r, u.imag, label='Im u0', ls='--')\n",
    "plt.xlabel('r (fm)'); plt.ylabel('u0')\n",
    "plt.legend(); plt.tight_layout(); plt.show()\n",
    "\n",
    "plt.figure(figsize=(7,4))\n",
    "plt.plot(r, du.real, label='Re du0/dr')\n",
    "plt.plot(r, du.imag, label='Im du0/dr', ls='--')\n",
    "plt.xlabel('r (fm)'); plt.ylabel(\"du0/dr\")\n",
    "plt.legend(); plt.tight_layout(); plt.show()\n"
   ]
  },
  {
   "cell_type": "code",
   "execution_count": null,
   "id": "2fb46490-0c32-4596-b50e-2fd59eef9d54",
   "metadata": {},
   "outputs": [],
   "source": [
    "pip install mpmath\n"
   ]
  },
  {
   "cell_type": "code",
   "execution_count": null,
   "id": "210636ec-1a39-4469-aa63-21afa44ff95a",
   "metadata": {},
   "outputs": [],
   "source": [
    "pip install --upgrade \"scipy>=1.12\""
   ]
  },
  {
   "cell_type": "code",
   "execution_count": 2,
   "id": "87bd21d0-a256-47d0-89b7-974f7785f87a",
   "metadata": {},
   "outputs": [
    {
     "ename": "SyntaxError",
     "evalue": "invalid syntax (143515095.py, line 1)",
     "output_type": "error",
     "traceback": [
      "\u001b[0;36m  Cell \u001b[0;32mIn[2], line 1\u001b[0;36m\u001b[0m\n\u001b[0;31m    python - <<'PY'\u001b[0m\n\u001b[0m             ^\u001b[0m\n\u001b[0;31mSyntaxError\u001b[0m\u001b[0;31m:\u001b[0m invalid syntax\n"
     ]
    }
   ],
   "source": [
    "python - <<'PY'\n",
    "import scipy, sys\n",
    "print(\"SciPy version:\", scipy.__version__)\n",
    "PY\n"
   ]
  },
  {
   "cell_type": "code",
   "execution_count": 3,
   "id": "757a8bf4-ad91-4056-9ebd-67d502f1664c",
   "metadata": {},
   "outputs": [
    {
     "name": "stdout",
     "output_type": "stream",
     "text": [
      "1.15.3\n"
     ]
    }
   ],
   "source": [
    "import scipy\n",
    "print(scipy.__version__)\n"
   ]
  },
  {
   "cell_type": "code",
   "execution_count": null,
   "id": "6f43d6c4-c300-4207-be30-911ccb4a82fc",
   "metadata": {},
   "outputs": [],
   "source": []
  }
 ],
 "metadata": {
  "kernelspec": {
   "display_name": "Python 3 (ipykernel)",
   "language": "python",
   "name": "python3"
  },
  "language_info": {
   "codemirror_mode": {
    "name": "ipython",
    "version": 3
   },
   "file_extension": ".py",
   "mimetype": "text/x-python",
   "name": "python",
   "nbconvert_exporter": "python",
   "pygments_lexer": "ipython3",
   "version": "3.10.12"
  }
 },
 "nbformat": 4,
 "nbformat_minor": 5
}
