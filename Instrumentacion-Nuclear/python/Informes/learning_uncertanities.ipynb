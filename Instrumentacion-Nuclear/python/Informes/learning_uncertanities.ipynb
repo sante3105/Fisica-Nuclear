{
 "cells": [
  {
   "cell_type": "code",
   "execution_count": 2,
   "id": "106c5bf9-f1ec-4678-871d-45e24f714722",
   "metadata": {},
   "outputs": [
    {
     "name": "stdout",
     "output_type": "stream",
     "text": [
      "Requirement already satisfied: uncertainties in /root/Instrumentacion-Nuclear/myenv/lib/python3.12/site-packages (3.2.2)\n"
     ]
    }
   ],
   "source": [
    "#!pip install uncertainties"
   ]
  },
  {
   "cell_type": "code",
   "execution_count": 25,
   "id": "0dd67edb-7521-467d-bcf7-4dc04e87e96a",
   "metadata": {},
   "outputs": [
    {
     "name": "stdout",
     "output_type": "stream",
     "text": [
      "-3.0+/-0.4\n"
     ]
    }
   ],
   "source": [
    "import uncertainties as u \n",
    "import numpy as np\n",
    "from scipy.special import erf\n",
    "\n",
    "#first example\n",
    "\n",
    "A=u.ufloat(2, .2)\n",
    "B=u.ufloat(5, .3)\n",
    "\n",
    "print(A - B)"
   ]
  },
  {
   "cell_type": "code",
   "execution_count": 26,
   "id": "b30407fa-095a-4d5d-a2a8-019ed21fc3da",
   "metadata": {},
   "outputs": [
    {
     "name": "stdout",
     "output_type": "stream",
     "text": [
      "0.4615+/-0.0468\n"
     ]
    }
   ],
   "source": [
    "#second example\n",
    "rho=u.ufloat(2.4, .2)/u.ufloat(5.2, .3)\n",
    "print(f'{rho:1.4f}')"
   ]
  },
  {
   "cell_type": "code",
   "execution_count": 27,
   "id": "6dee57bf-f581-404c-b3bc-8e5fcea7f295",
   "metadata": {},
   "outputs": [
    {
     "name": "stdout",
     "output_type": "stream",
     "text": [
      "148.4132+/-148.4132\n"
     ]
    }
   ],
   "source": [
    "#third example\n",
    "#np.exp(u.ufloat(5, 1)) --> this is an error because ufloat doesnt recognice exp\n",
    "#correct form:\n",
    "from uncertainties.umath import *\n",
    "x_1=exp(u.ufloat(5 ,1))\n",
    "print(f'{x_1:1.4f}')"
   ]
  },
  {
   "cell_type": "markdown",
   "id": "f8072e64-f77d-498a-9d53-61f5cfe1bcc8",
   "metadata": {},
   "source": [
    "The functions in the :mod:`uncertainties.umath` module include:\n",
    "\n",
    "acos, acosh, asin, asinh, atan, atan2, atanh, ceil, copysign, cos, cosh, degrees, erf, erfc, exp, expm1, fabs, factorial, floor, fmod, frexp, fsum, gamma, hypot, isinf, isnan, ldexp, lgamma, log, log10, log1p, modf, pow, radians, sin, sinh, sqrt, tan, tanh, trunc"
   ]
  },
  {
   "cell_type": "code",
   "execution_count": 28,
   "id": "939aa4a2-5680-492d-8438-990719da4e41",
   "metadata": {},
   "outputs": [
    {
     "name": "stdout",
     "output_type": "stream",
     "text": [
      "148.4132+/-148.4132\n"
     ]
    }
   ],
   "source": [
    "#other form is usign wrap function\n",
    "x_2=u.wrap(np.exp)(u.ufloat(5,1))\n",
    "print(f'{x_2:1.4f}')"
   ]
  },
  {
   "cell_type": "code",
   "execution_count": 29,
   "id": "26d3ff3f-aacd-47b6-8504-9bf5fbe6e483",
   "metadata": {},
   "outputs": [
    {
     "data": {
      "text/plain": [
       "0.4769362762044694+/-0.02781462064012885"
      ]
     },
     "execution_count": 29,
     "metadata": {},
     "output_type": "execute_result"
    }
   ],
   "source": [
    "# fourth example \n",
    "def f(x,a):\n",
    "    return a * erf(x) -1\n",
    "from scipy.optimize import fsolve \n",
    "\n",
    "a= u.ufloat(2, 0.1)\n",
    "x0 =1.0\n",
    "\n",
    "def g(x0, a):\n",
    "    sol, = fsolve(f, x0, args=(a,))\n",
    "    return sol\n",
    "\n",
    "u.wrap(g)(x0, a)\n"
   ]
  },
  {
   "cell_type": "code",
   "execution_count": null,
   "id": "48f56fbf-e3cc-45a3-a09c-c471601359b3",
   "metadata": {},
   "outputs": [],
   "source": []
  }
 ],
 "metadata": {
  "kernelspec": {
   "display_name": "Python 3 (ipykernel)",
   "language": "python",
   "name": "python3"
  },
  "language_info": {
   "codemirror_mode": {
    "name": "ipython",
    "version": 3
   },
   "file_extension": ".py",
   "mimetype": "text/x-python",
   "name": "python",
   "nbconvert_exporter": "python",
   "pygments_lexer": "ipython3",
   "version": "3.12.3"
  }
 },
 "nbformat": 4,
 "nbformat_minor": 5
}
