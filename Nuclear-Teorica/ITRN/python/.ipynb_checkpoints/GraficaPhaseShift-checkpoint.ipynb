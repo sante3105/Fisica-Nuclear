{
 "cells": [
  {
   "cell_type": "code",
   "execution_count": 1,
   "id": "abada5f4-dd3e-4b22-b00b-734477dc5c91",
   "metadata": {},
   "outputs": [
    {
     "name": "stdout",
     "output_type": "stream",
     "text": [
      "Gráficas guardadas en: /root/Fisica-Nuclear/Nuclear-Teorica/Subatomica/python/phase_shift_images\n"
     ]
    }
   ],
   "source": [
    "import matplotlib.pyplot as plt\n",
    "import numpy as np\n",
    "import os\n",
    "import re\n",
    "from pathlib import Path\n",
    "\n",
    "# Directorio de entrada (donde están los .dat)\n",
    "data_dir = Path(\"../c++/ITRN/phase_shift/data\")\n",
    "\n",
    "# Directorio de salida (para guardar las gráficas)\n",
    "output_dir = Path(\"phase_shift_images\")\n",
    "output_dir.mkdir(exist_ok=True)\n",
    "\n",
    "# Leer todos los archivos delta_vs_E_l=...dat\n",
    "files = sorted(data_dir.glob(\"delta_vs_E_l=*_a=*.dat\"))\n",
    "\n",
    "# Agrupar archivos por valor de l\n",
    "grouped_files = {}\n",
    "pattern = re.compile(r\"delta_vs_E_l=(\\d+)_a=(\\d+).dat\")\n",
    "\n",
    "for file in files:\n",
    "    match = pattern.match(file.name)\n",
    "    if match:\n",
    "        l_val = int(match.group(1))\n",
    "        a_val = int(match.group(2))\n",
    "        grouped_files.setdefault(l_val, []).append((a_val, file))\n",
    "\n",
    "# Función para graficar un grupo con l fijo\n",
    "def plot_group(l_val, group):\n",
    "    plt.figure(figsize=(8,5))\n",
    "    for a_val, file in sorted(group):\n",
    "        data = np.loadtxt(file, comments=\"#\")\n",
    "        E = data[:,0]\n",
    "        delta = data[:,1]\n",
    "        plt.plot(E, delta, label=f\"$a = {a_val}$\")\n",
    "\n",
    "    plt.xlabel(r\"$E$ [MeV]\")\n",
    "    plt.ylabel(r\"$\\delta_\\ell$ [°]\")\n",
    "    plt.title(rf\"$\\ell = {l_val}$\")\n",
    "    plt.legend()\n",
    "    plt.grid(True)\n",
    "    plt.tight_layout()\n",
    "\n",
    "    # Guardar como PDF en el directorio especificado\n",
    "    pdf_name = output_dir / f\"delta_vs_E_l{l_val}.pdf\"\n",
    "    plt.savefig(pdf_name)\n",
    "    plt.close()\n",
    "\n",
    "# Generar las gráficas\n",
    "for l_val, group in grouped_files.items():\n",
    "    plot_group(l_val, group)\n",
    "\n",
    "print(f\"Gráficas guardadas en: {output_dir.resolve()}\")\n"
   ]
  },
  {
   "cell_type": "code",
   "execution_count": null,
   "id": "86466f5a-f924-49f3-9ccf-62bc1dd3b019",
   "metadata": {},
   "outputs": [],
   "source": []
  }
 ],
 "metadata": {
  "kernelspec": {
   "display_name": "Python 3 (ipykernel)",
   "language": "python",
   "name": "python3"
  },
  "language_info": {
   "codemirror_mode": {
    "name": "ipython",
    "version": 3
   },
   "file_extension": ".py",
   "mimetype": "text/x-python",
   "name": "python",
   "nbconvert_exporter": "python",
   "pygments_lexer": "ipython3",
   "version": "3.12.3"
  }
 },
 "nbformat": 4,
 "nbformat_minor": 5
}
